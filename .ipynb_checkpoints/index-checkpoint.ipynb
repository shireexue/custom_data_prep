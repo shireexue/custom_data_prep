{
 "cells": [
  {
   "cell_type": "code",
   "execution_count": null,
   "metadata": {},
   "outputs": [
    {
     "name": "stdout",
     "output_type": "stream",
     "text": [
      "The autoreload extension is already loaded. To reload it, use:\n",
      "  %reload_ext autoreload\n"
     ]
    }
   ],
   "source": [
    "%load_ext autoreload\n",
    "%autoreload 2"
   ]
  },
  {
   "cell_type": "code",
   "execution_count": null,
   "metadata": {},
   "outputs": [],
   "source": [
    "import pandas as pd\n",
    "from custom_data_prep.core import cat_treat\n",
    "import numpy as np"
   ]
  },
  {
   "cell_type": "markdown",
   "metadata": {},
   "source": [
    "# Welcome to Custom_Data_Prep\n",
    "\n",
    "> This is a library to help data scientist to efficiently prepare datasets for analysis and modeling"
   ]
  },
  {
   "cell_type": "markdown",
   "metadata": {},
   "source": [
    "## Install"
   ]
  },
  {
   "cell_type": "markdown",
   "metadata": {},
   "source": [
    "`pip install custom_data_prep`"
   ]
  },
  {
   "cell_type": "markdown",
   "metadata": {},
   "source": [
    "## How to use"
   ]
  },
  {
   "cell_type": "code",
   "execution_count": null,
   "metadata": {},
   "outputs": [],
   "source": [
    "# Import data \n",
    "data = {'Name':['Tom', 'nick', 'krish', 'jack','Amy','Lily','Carol'],\n",
    "        'Age':['33','22','41','12','34','21','60'],\n",
    "        'Country':['US','AU','UK','CN','US','JP','NZ'],\n",
    "        'target':[1,0,0,1,0,1,1]\n",
    "       }\n",
    "\n",
    "df=pd.DataFrame(data)"
   ]
  },
  {
   "cell_type": "markdown",
   "metadata": {},
   "source": [
    "Result before collapsing - 'Country' feature has 6 levels"
   ]
  },
  {
   "cell_type": "code",
   "execution_count": null,
   "metadata": {},
   "outputs": [
    {
     "name": "stdout",
     "output_type": "stream",
     "text": [
      "    Name Age Country  target\n",
      "0    Tom  33      US       1\n",
      "1   nick  22      AU       0\n",
      "2  krish  41      UK       0\n",
      "3   jack  12      CN       1\n",
      "4    Amy  34      US       0\n",
      "5   Lily  21      JP       1\n",
      "6  Carol  60      NZ       1\n"
     ]
    }
   ],
   "source": [
    "print(df)"
   ]
  },
  {
   "cell_type": "code",
   "execution_count": null,
   "metadata": {},
   "outputs": [],
   "source": [
    "# Import class and apply function\n",
    "\n",
    "o =cat_treat(df,['Country'])\n",
    "df_new,catclasses=o.reduce_cardinality(keep_level=3)\n"
   ]
  },
  {
   "cell_type": "markdown",
   "metadata": {},
   "source": [
    "Result after collapsing - Now 'Country' has been reduced to 3 levels only "
   ]
  },
  {
   "cell_type": "code",
   "execution_count": null,
   "metadata": {},
   "outputs": [
    {
     "name": "stdout",
     "output_type": "stream",
     "text": [
      "    Name Age Country  target\n",
      "0    Tom  33      US       1\n",
      "1   nick  22   OTHER       0\n",
      "2  krish  41   OTHER       0\n",
      "3   jack  12      CN       1\n",
      "4    Amy  34      US       0\n",
      "5   Lily  21   OTHER       1\n",
      "6  Carol  60   OTHER       1\n"
     ]
    }
   ],
   "source": [
    "print(df_new)"
   ]
  },
  {
   "cell_type": "code",
   "execution_count": null,
   "metadata": {},
   "outputs": [],
   "source": []
  }
 ],
 "metadata": {
  "kernelspec": {
   "display_name": "Python 3",
   "language": "python",
   "name": "python3"
  }
 },
 "nbformat": 4,
 "nbformat_minor": 2
}
